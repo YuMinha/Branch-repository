{
  "nbformat": 4,
  "nbformat_minor": 0,
  "metadata": {
    "colab": {
      "provenance": [],
      "authorship_tag": "ABX9TyO5GAhTakAt05Bsk9DGjD92",
      "include_colab_link": true
    },
    "kernelspec": {
      "name": "python3",
      "display_name": "Python 3"
    },
    "language_info": {
      "name": "python"
    }
  },
  "cells": [
    {
      "cell_type": "markdown",
      "metadata": {
        "id": "view-in-github",
        "colab_type": "text"
      },
      "source": [
        "<a href=\"https://colab.research.google.com/github/YuMinha/Branch-repository/blob/main/SW_first.ipynb\" target=\"_parent\"><img src=\"https://colab.research.google.com/assets/colab-badge.svg\" alt=\"Open In Colab\"/></a>"
      ]
    },
    {
      "cell_type": "markdown",
      "source": [
        "안녕하세요:)"
      ],
      "metadata": {
        "id": "LdypgLHKGtRM"
      }
    },
    {
      "cell_type": "code",
      "execution_count": null,
      "metadata": {
        "id": "nAPgfOr2DLwH"
      },
      "outputs": [],
      "source": [
        "print(\"잠온다ㅏㅏㅏㅏ\")\n",
        "print('hi')\n",
        "16**5\n",
        "for i in range(10):\n",
        "  print(i+1,\"잠온다\")\n"
      ]
    },
    {
      "cell_type": "code",
      "source": [
        "!ls\n",
        "!help"
      ],
      "metadata": {
        "id": "SRZq3Y8RJvLy"
      },
      "execution_count": null,
      "outputs": []
    },
    {
      "cell_type": "markdown",
      "source": [
        "정보뜨면 깔려있음\n",
        "없다고 뜨면 안깔려있는 "
      ],
      "metadata": {
        "id": "yYRMol7ULFIX"
      }
    },
    {
      "cell_type": "code",
      "source": [
        "!pip show tensorflow\n",
        "!pip show torch\n",
        "!pip show torchvision\n",
        "!pip show pandas\n",
        "!pip show numpy\n",
        "!pip show kumoh"
      ],
      "metadata": {
        "id": "h0IawnZvKWz-"
      },
      "execution_count": null,
      "outputs": []
    },
    {
      "cell_type": "code",
      "source": [
        "from vega_datasets import data\n",
        "stocks = data.stocks()\n",
        "\n",
        "import altair as alt\n",
        "alt.Chart(stocks).mark_line().encode(\n",
        "  x='date:T',\n",
        "  y='price',\n",
        "  color='symbol'\n",
        ").interactive(bind_y=False)"
      ],
      "metadata": {
        "id": "a6Gsx7qGPXlt"
      },
      "execution_count": null,
      "outputs": []
    },
    {
      "cell_type": "code",
      "source": [
        "import pandas as pd\n",
        "df = pd.DataFrame({\n",
        "  'first_name': ['Sarah', 'John', 'Kyle'],\n",
        "  'last_name': ['Connor', 'Connor', 'Reese'],\n",
        "})\n",
        "\n",
        "df.groupby(['last_name']).size().sort_values(ascending=False)"
      ],
      "metadata": {
        "id": "Gqp6bl0UPtc4"
      },
      "execution_count": null,
      "outputs": []
    },
    {
      "cell_type": "code",
      "source": [
        "# load an example dataset\n",
        "from vega_datasets import data\n",
        "cars = data.cars()\n",
        "\n",
        "import altair as alt\n",
        "\n",
        "interval = alt.selection_interval()\n",
        "\n",
        "points = alt.Chart(cars).mark_point().encode(\n",
        "  x='Horsepower',\n",
        "  y='Miles_per_Gallon',\n",
        "  color=alt.condition(interval, 'Origin', alt.value('lightgray'))\n",
        ").properties(\n",
        "  selection=interval\n",
        ")\n",
        "\n",
        "histogram = alt.Chart(cars).mark_bar().encode(\n",
        "  x='count()',\n",
        "  y='Origin',\n",
        "  color='Origin'\n",
        ").transform_filter(interval)\n",
        "\n",
        "points & histogram"
      ],
      "metadata": {
        "id": "qXzvsaiFPyAL"
      },
      "execution_count": null,
      "outputs": []
    },
    {
      "cell_type": "code",
      "source": [
        "from google.colab import drive\n",
        "drive.mount('/gdrive',  force_remount=True)"
      ],
      "metadata": {
        "colab": {
          "base_uri": "https://localhost:8080/"
        },
        "id": "DELFXX8iQScJ",
        "outputId": "0aa2a0ca-7c1f-4ec2-cada-e24986cf692e"
      },
      "execution_count": 40,
      "outputs": [
        {
          "output_type": "stream",
          "name": "stdout",
          "text": [
            "Mounted at /gdrive\n"
          ]
        }
      ]
    },
    {
      "cell_type": "code",
      "source": [
        "with open('/gdrive/My Drive/test.txt','w') as f:\n",
        "    f.writelines(\"Hello Google Colab!\")"
      ],
      "metadata": {
        "id": "MB3zS0kBQ1BP"
      },
      "execution_count": 41,
      "outputs": []
    }
  ]
}